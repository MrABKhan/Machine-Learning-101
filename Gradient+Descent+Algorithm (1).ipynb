{
 "cells": [
  {
   "cell_type": "markdown",
   "metadata": {
    "collapsed": true
   },
   "source": [
    "# Gradient Descent Algorithm in Python"
   ]
  },
  {
   "cell_type": "markdown",
   "metadata": {},
   "source": [
    "##### This here is a step by step notebook for using the Gradient Descent Algorithm in Python with **one hyper parameter** and **one feature**"
   ]
  },
  {
   "cell_type": "markdown",
   "metadata": {},
   "source": [
    "Basic Setup for MatPlotLib"
   ]
  },
  {
   "cell_type": "code",
   "execution_count": 3,
   "metadata": {
    "collapsed": true
   },
   "outputs": [],
   "source": [
    "%matplotlib inline\n"
   ]
  },
  {
   "cell_type": "markdown",
   "metadata": {},
   "source": [
    "Importing MatPlot Lib and Initializing the Area/Price DataSet. It is store as a python dictionary with keys are Area and Prices are Values. "
   ]
  },
  {
   "cell_type": "code",
   "execution_count": 126,
   "metadata": {
    "collapsed": true
   },
   "outputs": [],
   "source": [
    "import matplotlib.pyplot as plt\n",
    "AreaPriceDict = {105.8: 48349, 109.8: 50184, 111.7: 51026, 111.9: 51127, 110.8: 50606, 117.1: 53492, 115.5: 52757, 119.8: 54720, 118.1: 53951, 130.8: 59752, 130.3: 59510, 130.2: 59504, 144.1: 65842, 155.3: 70928, 165.6: 75657, 177.8: 81226, 190.6: 87082, 204.3: 93334, 215.5: 98448, 237.0: 108255, 253.4: 115763, 265.7: 121378, 264.5: 120859, 268.8: 122827, 274.4: 134728, 272.5: 124488, 259.1: 118357, 270.3: 123483, 277.1: 126609, 274.7: 125495, 281.3: 128510, 283.2: 129378, 294.4: 134523, 294.5: 134534, 291.6: 133202, 289.7: 132349, 283.9: 129700, 269.3: 123019, 259.4: 118525, 247.3: 112989, 245.9: 112348, 254.0: 116051, 254.2: 116154, 252.9: 115545, 260.6: 119057, 256.6: 117234, 255.7: 116836, 249.2: 113863, 257.6: 117691, 255.2: 116610, 253.3: 115716, 251.3: 114828, 251.5: 114882, 255.3: 116624, 250.1: 114264, 255.9: 116909, 254.8: 116417, 262.0: 119702, 273.8: 125106, 267.0: 121990, 265.9: 121486, 274.1: 134584, 274.0: 125189, 272.2: 133632, 271.8: 124167, 271.1: 123864, 271.2: 123914, 271.6: 124074, 272.0: 124284, 270.1: 123397, 278.4: 127213, 272.6: 124535, 111.1: 54523, 114.3: 56103, 115.7: 56824, 117.9: 57863, 117.5: 57669, 123.7: 60754, 120.1: 58942, 124.3: 61037, 127.8: 62725, 132.2: 64894, 133.9: 65754, 137.7: 67591, 142.9: 70166, 155.8: 76498, 167.7: 82357, 186.3: 91480, 185.1: 90877, 205.0: 100625, 215.9: 106016, 226.0: 110961, 237.6: 116673, 262.8: 129018, 271.9: 133494, 284.5: 139688, 284.3: 139585, 286.3: 140549, 290.1: 142424, 297.8: 146209, 302.6: 148585, 307.1: 150785, 308.6: 151530, 316.0: 155159, 318.6: 156429, 315.1: 154695, 309.1: 151747, 297.5: 146074, 286.5: 140634, 259.5: 127412, 268.2: 131675, 279.6: 137275, 277.4: 136208, 287.4: 141093, 278.9: 136906, 269.5: 132302, 274.9: 134967, 281.5: 138228, 279.7: 137340, 273.9: 134467, 269.1: 132128, 273.7: 134362, 274.2: 134633, 266.9: 131046, 267.8: 131470, 271.5: 133283, 280.3: 137634, 286.6: 140684, 284.7: 139775, 290.6: 142661, 295.9: 145265, 290.9: 142816, 288.5: 141647, 300.2: 147387, 296.7: 145673, 292.1: 143390, 294.1: 144361, 302.7: 148587, 307.2: 150823, 303.7: 149124, 301.4: 147983, 309.5: 151947, 308.5: 151482}\n"
   ]
  },
  {
   "cell_type": "markdown",
   "metadata": {},
   "source": [
    "This is the Data Normalization function which we will use later for Graphing purposes"
   ]
  },
  {
   "cell_type": "code",
   "execution_count": 102,
   "metadata": {
    "collapsed": true
   },
   "outputs": [],
   "source": [
    "def Normalize(Data):\n",
    "    Norm = []\n",
    "    Max = max(Data)\n",
    "    for i in range(len(Data)):\n",
    "        Norm.append(Data[i]/Max)\n",
    "    return Norm"
   ]
  },
  {
   "cell_type": "markdown",
   "metadata": {},
   "source": [
    "Converted the Price and Area from the dictionary into separate lists for handling. Plus normalized them for futher graphs."
   ]
  },
  {
   "cell_type": "code",
   "execution_count": 123,
   "metadata": {},
   "outputs": [
    {
     "name": "stdout",
     "output_type": "stream",
     "text": [
      "Area : [105.8, 109.8, 111.7, 111.9, 110.8, 117.1, 115.5, 119.8, 118.1, 130.8, 130.3, 130.2, 144.1, 155.3, 165.6, 177.8, 190.6, 204.3, 215.5, 237.0, 253.4, 265.7, 264.5, 268.8, 274.4, 272.5, 259.1, 270.3, 277.1, 274.7, 281.3, 283.2, 294.4, 294.5, 291.6, 289.7, 283.9, 269.3, 259.4, 247.3, 245.9, 254.0, 254.2, 252.9, 260.6, 256.6, 255.7, 249.2, 257.6, 255.2, 253.3, 251.3, 251.5, 255.3, 250.1, 255.9, 254.8, 262.0, 273.8, 267.0, 265.9, 274.1, 274.0, 272.2, 271.8, 271.1, 271.2, 271.6, 272.0, 270.1, 278.4, 272.6, 111.1, 114.3, 115.7, 117.9, 117.5, 123.7, 120.1, 124.3, 127.8, 132.2, 133.9, 137.7, 142.9, 155.8, 167.7, 186.3, 185.1, 205.0, 215.9, 226.0, 237.6, 262.8, 271.9, 284.5, 284.3, 286.3, 290.1, 297.8, 302.6, 307.1, 308.6, 316.0, 318.6, 315.1, 309.1, 297.5, 286.5, 259.5, 268.2, 279.6, 277.4, 287.4, 278.9, 269.5, 274.9, 281.5, 279.7, 273.9, 269.1, 273.7, 274.2, 266.9, 267.8, 271.5, 280.3, 286.6, 284.7, 290.6, 295.9, 290.9, 288.5, 300.2, 296.7, 292.1, 294.1, 302.7, 307.2, 303.7, 301.4, 309.5, 308.5] Price [48349, 50184, 51026, 51127, 50606, 53492, 52757, 54720, 53951, 59752, 59510, 59504, 65842, 70928, 75657, 81226, 87082, 93334, 98448, 108255, 115763, 121378, 120859, 122827, 134728, 124488, 118357, 123483, 126609, 125495, 128510, 129378, 134523, 134534, 133202, 132349, 129700, 123019, 118525, 112989, 112348, 116051, 116154, 115545, 119057, 117234, 116836, 113863, 117691, 116610, 115716, 114828, 114882, 116624, 114264, 116909, 116417, 119702, 125106, 121990, 121486, 134584, 125189, 133632, 124167, 123864, 123914, 124074, 124284, 123397, 127213, 124535, 54523, 56103, 56824, 57863, 57669, 60754, 58942, 61037, 62725, 64894, 65754, 67591, 70166, 76498, 82357, 91480, 90877, 100625, 106016, 110961, 116673, 129018, 133494, 139688, 139585, 140549, 142424, 146209, 148585, 150785, 151530, 155159, 156429, 154695, 151747, 146074, 140634, 127412, 131675, 137275, 136208, 141093, 136906, 132302, 134967, 138228, 137340, 134467, 132128, 134362, 134633, 131046, 131470, 133283, 137634, 140684, 139775, 142661, 145265, 142816, 141647, 147387, 145673, 143390, 144361, 148587, 150823, 149124, 147983, 151947, 151482]\n",
      "143 143\n"
     ]
    }
   ],
   "source": [
    "Area = list(AreaPriceDict.keys())\n",
    "Price = list(AreaPriceDict.values())\n",
    "AreaNorm = Normalize(Area)\n",
    "PriceNorm = Normalize(Price)\n",
    "\n",
    "print(\"Area :\",Area,\"Price\",Price)\n",
    "print(len(Area),len(Price))"
   ]
  },
  {
   "cell_type": "markdown",
   "metadata": {},
   "source": [
    "## Plot of Area vs Price in the Data"
   ]
  },
  {
   "cell_type": "code",
   "execution_count": 125,
   "metadata": {},
   "outputs": [
    {
     "data": {
      "text/plain": [
       "Text(0.5,1,'Price and Area Graph(Non Normalized.)')"
      ]
     },
     "execution_count": 125,
     "metadata": {},
     "output_type": "execute_result"
    },
    {
     "data": {
      "image/png": "[encoded data removed]",
      "text/plain": [
       "<matplotlib.figure.Figure at 0x7fe0fcb18f28>"
      ]
     },
     "metadata": {},
     "output_type": "display_data"
    }
   ],
   "source": [
    "plt.plot(PriceNorm)\n",
    "plt.plot(AreaNorm)\n",
    "\n",
    "plt.xlabel('Area')\n",
    "plt.ylabel('Price')\n",
    "plt.title('Price and Area Graph(Non Normalized.)')"
   ]
  },
  {
   "cell_type": "markdown",
   "metadata": {},
   "source": [
    "\n",
    "# Pseudo Code Algorithm.\n",
    "\n",
    "First get all Area Sizes.\n",
    "\n",
    "\n",
    "Initiate Theta0 and Thetha 1 randomly.\n",
    "\n",
    "\n",
    "Calculate  Means Square Error of all data points for the Thetha Value.\n",
    "\n",
    "\n",
    "Compare that RMS Error for the intial thetha values and find the gradient(slope or derivate) of the thetha value.\n",
    "\n",
    "\n",
    "if the Gradient is positive then subtract gradient from the thetha.\n",
    "if the Gradient is negative then add gradient to the thetha.\n",
    "\n",
    "\n",
    "By adding and subtracting the Gradient value, we are trying to reach the 0 or the trough of the parabola or \n",
    "\"point of minimum error\". Where the Gradient is 0 or very near it.\n",
    "\n"
   ]
  },
  {
   "cell_type": "markdown",
   "metadata": {},
   "source": [
    "# Actual Code"
   ]
  },
  {
   "cell_type": "markdown",
   "metadata": {},
   "source": [
    "Intializing Values for Theta's and one Alpha parameter."
   ]
  },
  {
   "cell_type": "code",
   "execution_count": 91,
   "metadata": {
    "collapsed": true
   },
   "outputs": [],
   "source": [
    "Theta0 = 0\n",
    "Theta1 = 0\n",
    "Alpha = 0.000032"
   ]
  },
  {
   "cell_type": "markdown",
   "metadata": {},
   "source": [
    "These are lists which will be used later on for plotting of the Theta Values."
   ]
  },
  {
   "cell_type": "code",
   "execution_count": 112,
   "metadata": {
    "collapsed": true
   },
   "outputs": [],
   "source": [
    "GradT0L = []\n",
    "GradT1L = []"
   ]
  },
  {
   "cell_type": "markdown",
   "metadata": {},
   "source": [
    "This is the Hypothesis Function."
   ]
  },
  {
   "cell_type": "code",
   "execution_count": 92,
   "metadata": {
    "collapsed": true
   },
   "outputs": [],
   "source": [
    "def Prediction(T0,T1,Input):\n",
    "    Pre = T0 + (T1*Input)\n",
    "    return Pre"
   ]
  },
  {
   "cell_type": "markdown",
   "metadata": {},
   "source": [
    "This is the Actual Gradient Descent Function."
   ]
  },
  {
   "cell_type": "code",
   "execution_count": 127,
   "metadata": {
    "collapsed": true
   },
   "outputs": [],
   "source": [
    "def GD(T0,T1,Input,Actual):\n",
    "    granT1=0\n",
    "    granT0=0\n",
    "    while(True):\n",
    "        size = len(Input)\n",
    "        \n",
    "        for i in range(size):\n",
    "            granT0 = granT0 +((T0 + T1*Input[i]) - Actual[i])\n",
    "            granT1 = granT1 +((T0+T1*Input[i]) - Actual[i])*Input[i]\n",
    "        granT0 = granT0/size\n",
    "        granT1 = granT1/size\n",
    "        GradT0L.append(granT0)\n",
    "        GradT1L.append(granT1)\n",
    "        print(\"First Gradient(Y Intercept):\",granT0,\"Second Gradient:\",granT1)\n",
    "        T0 = T0 - Alpha*granT0\n",
    "        T1 = T1 - Alpha*granT1\n",
    "        breaker = abs(granT1)\n",
    "        if(breaker < 0.1):\n",
    "            break\n",
    "    print(\"Values of Gradient\",granT0,granT1)\n",
    "    return [T0,T1]"
   ]
  },
  {
   "cell_type": "markdown",
   "metadata": {},
   "source": [
    "Using the Gradient descent algorithm on the Data Set"
   ]
  },
  {
   "cell_type": "code",
   "execution_count": 129,
   "metadata": {},
   "outputs": [
    {
     "name": "stdout",
     "output_type": "stream",
     "text": [
      "First Gradient(Y Intercept): -114248.97202797203 Second Gradient: -29435225.213286716\n",
      "First Gradient(Y Intercept): 111437.1967822525 Second Gradient: 28628786.761931043\n",
      "First Gradient(Y Intercept): -107264.67628098722 Second Gradient: -27638604.061677784\n",
      "First Gradient(Y Intercept): 103867.20890627682 Second Gradient: 26681186.346579235\n",
      "First Gradient(Y Intercept): -99950.91035862124 Second Gradient: -25756925.862329084\n",
      "First Gradient(Y Intercept): 96806.75405158996 Second Gradient: 24864680.09049653\n",
      "First Gradient(Y Intercept): -93135.03743654583 Second Gradient: -24003345.038482428\n",
      "First Gradient(Y Intercept): 90226.98813917751 Second Gradient: 23171844.98222839\n",
      "First Gradient(Y Intercept): -86783.20224762209 Second Gradient: -22369151.35670475\n",
      "First Gradient(Y Intercept): 84095.18525150574 Second Gradient: 21594261.33188103\n",
      "First Gradient(Y Intercept): -80863.81221602051 Second Gradient: -20846216.71216935\n",
      "First Gradient(Y Intercept): 78380.8472074945 Second Gradient: 20124082.59936228\n",
      "First Gradient(Y Intercept): -75347.42564679333 Second Gradient: -19426966.376429964\n",
      "First Gradient(Y Intercept): 73055.55220065583 Second Gradient: 18753996.45206073\n",
      "First Gradient(Y Intercept): -70206.60529200031 Second Gradient: -18104341.323067382\n",
      "First Gradient(Y Intercept): 68092.81343554785 Second Gradient: 17477188.394980725\n",
      "First Gradient(Y Intercept): -65415.781884115335 Second Gradient: -16871763.11770727\n",
      "First Gradient(Y Intercept): 63467.94738851567 Second Gradient: 16287307.877003636\n",
      "First Gradient(Y Intercept): -60951.12696034005 Second Gradient: -15723101.198392851\n",
      "First Gradient(Y Intercept): 59157.951037492436 Second Gradient: 15178436.704699686\n",
      "First Gradient(Y Intercept): -56790.434345283116 Second Gradient: -14652642.383572571\n",
      "First Gradient(Y Intercept): 55141.38745023139 Second Gradient: 14145059.606588094\n",
      "First Gradient(Y Intercept): -52913.0097025245 Second Gradient: -13655062.456042346\n",
      "First Gradient(Y Intercept): 51398.27916190993 Second Gradient: 13182036.801438631\n",
      "First Gradient(Y Intercept): -49299.56760572127 Second Gradient: -12725399.681507345\n",
      "First Gradient(Y Intercept): 47910.00881179036 Second Gradient: 12284578.43417588\n",
      "First Gradient(Y Intercept): -45932.135617310116 Second Gradient: -11859030.13005111\n",
      "First Gradient(Y Intercept): 44659.22654472831 Second Gradient: 11448220.752236163\n",
      "First Gradient(Y Intercept): -42793.964897715196 Second Gradient: -11051644.67776608\n",
      "First Gradient(Y Intercept): 41629.763716962705 Second Gradient: 10668803.903883573\n",
      "First Gradient(Y Intercept): -39869.44690045251 Second Gradient: -10299227.574157318\n",
      "First Gradient(Y Intercept): 38806.55247698148 Second Gradient: 9942451.248059409\n",
      "First Gradient(Y Intercept): -37144.03573879134 Second Gradient: -9598036.46871846\n",
      "First Gradient(Y Intercept): 36175.55082147627 Second Gradient: 9265550.072856516\n",
      "First Gradient(Y Intercept): -34604.17583784197 Second Gradient: -8944583.797336554\n",
      "First Gradient(Y Intercept): 33723.6727536304 Second Gradient: 8634733.626716906\n",
      "First Gradient(Y Intercept): -32237.23451222776 Second Gradient: -8335619.435946211\n",
      "First Gradient(Y Intercept): 31438.723196365772 Second Gradient: 8046864.372979966\n",
      "First Gradient(Y Intercept): -30031.439133998996 Second Gradient: -7768114.535156208\n",
      "First Gradient(Y Intercept): 29309.33733681929 Second Gradient: 7499018.384492931\n",
      "First Gradient(Y Intercept): -27975.818578274917 Second Gradient: -7239246.455445634\n",
      "First Gradient(Y Intercept): 27324.924100364668 Second Gradient: 6988470.800666376\n",
      "First Gradient(Y Intercept): -26060.14865537941 Second Gradient: -6746384.72800085\n",
      "First Gradient(Y Intercept): 25475.61347303026 Second Gradient: 6512682.274641049\n",
      "First Gradient(Y Intercept): -24274.901258060476 Second Gradient: -6287077.9713654015\n",
      "First Gradient(Y Intercept): 23752.207410308256 Second Gradient: 6069286.343157695\n",
      "First Gradient(Y Intercept): -22611.196970865458 Second Gradient: -5859041.698829708\n",
      "First Gradient(Y Intercept): 22146.134088186023 Second Gradient: 5656077.656310317\n",
      "First Gradient(Y Intercept): -21060.760905960124 Second Gradient: -5460146.955916805\n",
      "First Gradient(Y Intercept): 20649.40526885464 Second Gradient: 5271001.0086403005\n",
      "First Gradient(Y Intercept): -19615.881545730008 Second Gradient: -5088409.731449935\n",
      "First Gradient(Y Intercept): 19254.57656904197 Second Gradient: 4912141.117014775\n",
      "First Gradient(Y Intercept): -18269.372387456373 Second Gradient: -4741981.089534977\n",
      "First Gradient(Y Intercept): 17954.71043335387 Second Gradient: 4577713.09444658\n",
      "First Gradient(Y Intercept): -17014.536199296206 Second Gradient: -4419137.97337635\n",
      "First Gradient(Y Intercept): 16743.341628460817 Second Gradient: 4266053.5724747535\n",
      "First Gradient(Y Intercept): -15845.13170978328 Second Gradient: -4118274.6351867574\n",
      "First Gradient(Y Intercept): 15614.445086506918 Second Gradient: 3975612.4279504665\n",
      "First Gradient(Y Intercept): -14755.342565172195 Second Gradient: -3837894.6495651663\n",
      "First Gradient(Y Intercept): 14562.40593780083 Second Gradient: 3704945.073079142\n",
      "First Gradient(Y Intercept): -13739.748400225506 Second Gradient: -3576603.470619217\n",
      "First Gradient(Y Intercept): 13581.99158373887 Second Gradient: 3452705.270371328\n",
      "First Gradient(Y Intercept): -12793.297878557578 Second Gradient: -3333101.495813113\n",
      "First Gradient(Y Intercept): 12668.325671056886 Second Gradient: 3217638.436765489\n",
      "First Gradient(Y Intercept): -11911.28356844304 Second Gradient: -3106177.602041931\n",
      "First Gradient(Y Intercept): 11816.863837964747 Second Gradient: 2998575.4036188843\n",
      "First Gradient(Y Intercept): -11089.31852912871 Second Gradient: -2894703.1217824644\n",
      "First Gradient(Y Intercept): 11023.371111530887 Second Gradient: 2794426.601530318\n",
      "First Gradient(Y Intercept): -10323.314491193856 Second Gradient: -2697626.2293591807\n",
      "First Gradient(Y Intercept): 10283.900843895692 Second Gradient: 2604176.641071201\n",
      "First Gradient(Y Intercept): -9609.461522433796 Second Gradient: -2513966.7094040154\n",
      "First Gradient(Y Intercept): 9594.775082548302 Second Gradient: 2426879.2624709015\n",
      "First Gradient(Y Intercept): -8944.209078128755 Second Gradient: -2342811.0814894186\n",
      "First Gradient(Y Intercept): 8952.56627703245 Second Gradient: 2261652.629137181\n",
      "First Gradient(Y Intercept): -8324.248341446995 Second Gradient: -2183308.05668574\n",
      "First Gradient(Y Intercept): 8354.080231094582 Second Gradient: 2107674.941602723\n",
      "First Gradient(Y Intercept): -7746.495766146838 Second Gradient: -2034664.3034448514\n",
      "First Gradient(Y Intercept): 7796.340215482737 Second Gradient: 1964180.3500826675\n",
      "First Gradient(Y Intercept): -7208.07773972338 Second Gradient: -1896140.5017505917\n",
      "First Gradient(Y Intercept): 7276.572162376364 Second Gradient: 1830455.1453129984\n",
      "First Gradient(Y Intercept): -6706.316290717357 Second Gradient: -1767047.665910152\n",
      "First Gradient(Y Intercept): 6792.19086780767 Second Gradient: 1705834.2087239733\n",
      "First Gradient(Y Intercept): -6238.715769097913 Second Gradient: -1646743.717696912\n",
      "First Gradient(Y Intercept): 6340.787133448719 Second Gradient: 1589697.7042925698\n",
      "First Gradient(Y Intercept): -5802.950433470336 Second Gradient: -1534630.2928002349\n",
      "First Gradient(Y Intercept): 5920.115783810104 Second Gradient: 1481467.995619908\n",
      "First Gradient(Y Intercept): -5396.852883370603 Second Gradient: -1430149.7646983294\n",
      "First Gradient(Y Intercept): 5528.084499251918 Second Gradient: 1380606.772899998\n",
      "First Gradient(Y Intercept): -5018.403279111335 Second Gradient: -1332782.4711514954\n",
      "First Gradient(Y Intercept): 5162.743409264511 Second Gradient: 1286612.37548992\n",
      "First Gradient(Y Intercept): -4665.719295561441 Second Gradient: -1242044.129521082\n",
      "First Gradient(Y Intercept): 4822.275394258875 Second Gradient: 1199017.2967646131\n",
      "First Gradient(Y Intercept): -4337.046759891669 Second Gradient: -1157483.4280584573\n",
      "First Gradient(Y Intercept): 4504.9870476295 Second Gradient: 1117385.858845854\n",
      "First Gradient(Y Intercept): -4030.750926720164 Second Gradient: -1078679.7811835983\n",
      "First Gradient(Y Intercept): 4209.300253137398 Second Gradient: 1041312.0456402043\n",
      "First Gradient(Y Intercept): -3745.3083472631934 Second Gradient: -1005241.2375887044\n",
      "First Gradient(Y Intercept): 3933.744335721102 Second Gradient: 970417.4834078577\n",
      "First Gradient(Y Intercept): -3479.2992920493334 Second Gradient: -936802.5307620353\n",
      "First Gradient(Y Intercept): 3676.94874669539 Second Gradient: 904349.5588182557\n",
      "First Gradient(Y Intercept): -3231.400689510122 Second Gradient: -873023.2622359081\n",
      "First Gradient(Y Intercept): 3437.636246955719 Second Gradient: 842779.6651320329\n",
      "First Gradient(Y Intercept): -3000.3795453245702 Second Gradient: -813586.2085225481\n",
      "First Gradient(Y Intercept): 3214.616554283165 Second Gradient: 785401.5677863115\n",
      "First Gradient(Y Intercept): -2785.0868097877456 Second Gradient: -758195.7433170939\n",
      "First Gradient(Y Intercept): 3006.7804231530613 Second Gradient: 731929.8812540487\n",
      "First Gradient(Y Intercept): -2584.4516627004464 Second Gradient: -706576.3671200052\n",
      "First Gradient(Y Intercept): 2813.0941276016083 Second Gradient: 682098.6496017431\n",
      "First Gradient(Y Intercept): -2397.476187354435 Second Gradient: -658471.3369655515\n",
      "First Gradient(Y Intercept): 2632.5943197093184 Second Gradient: 635660.0236854352\n",
      "First Gradient(Y Intercept): -2223.2304071231342 Second Gradient: -613641.389441071\n",
      "First Gradient(Y Intercept): 2464.3832381290567 Second Gradient: 592383.0284058258\n",
      "First Gradient(Y Intercept): -2060.847659970748 Second Gradient: -571863.5506455187\n",
      "First Gradient(Y Intercept): 2307.624242826464 Second Gradient: 552052.4138909592\n",
      "First Gradient(Y Intercept): -1909.5202878735 Second Gradient: -532930.0271682742\n",
      "First Gradient(Y Intercept): 2161.5376538238074 Second Gradient: 514467.58489260846\n",
      "First Gradient(Y Intercept): -1768.4956197135275 Second Gradient: -496647.17257229274\n",
      "First Gradient(Y Intercept): 2025.3968732503367 Second Gradient: 479441.6030714392\n",
      "First Gradient(Y Intercept): -1637.0722276648864 Second Gradient: -462834.5242410139\n",
      "First Gradient(Y Intercept): 1898.5247714105403 Second Gradient: 446800.257208447\n",
      "First Gradient(Y Intercept): -1514.5964384520673 Second Gradient: -431323.90579860867\n",
      "First Gradient(Y Intercept): 1780.2903188960804 Second Gradient: 416381.1967182361\n",
      "First Gradient(Y Intercept): -1400.459082128729 Second Gradient: -401958.59063917294\n",
      "First Gradient(Y Intercept): 1670.1054479899374 Second Gradient: 388033.1241543644\n",
      "First Gradient(Y Intercept): -1294.0924622057237 Second Gradient: -374592.5224044405\n",
      "First Gradient(Y Intercept): 1567.4221277520478 Second Gradient: 361615.0426904437\n",
      "First Gradient(Y Intercept): -1194.9675320586844 Second Gradient: -349089.58853288624\n",
      "First Gradient(Y Intercept): 1471.7296382388988 Second Gradient: 336995.5548342063\n",
      "First Gradient(Y Intercept): -1102.5912635712018 Second Gradient: -325322.9432669925\n",
      "First Gradient(Y Intercept): 1382.5520302993689 Second Gradient: 314052.20888644195\n",
      "First Gradient(Y Intercept): -1016.5041949257509 Second Gradient: -303174.37675147224\n",
      "First Gradient(Y Intercept): 1299.4457583125245 Second Gradient: 292670.889894253\n",
      "First Gradient(Y Intercept): -936.2781453457294 Second Gradient: -282533.7270844889\n",
      "First Gradient(Y Intercept): 1221.997474093203 Second Gradient: 272745.2520693993\n",
      "First Gradient(Y Intercept): -861.5140854222527 Second Gradient: -263298.3323975687\n",
      "First Gradient(Y Intercept): 1149.8219709927018 Second Gradient: 254176.18984867024\n",
      "First Gradient(Y Intercept): -791.8401524332206 Second Gradient: -245372.52023896508\n",
      "First Gradient(Y Intercept): 1082.5602679691765 Second Gradient: 236871.34496552643\n",
      "First Gradient(Y Intercept): -726.9098007832583 Second Gradient: -228667.13172078374\n",
      "First Gradient(Y Intercept): 1019.8778240979107 Second Gradient: 220744.647081173\n",
      "First Gradient(Y Intercept): -666.4000783650791 Second Gradient: -213099.07806304158\n",
      "First Gradient(Y Intercept): 961.4628746413788 Second Gradient: 205715.8856904001\n",
      "First Gradient(Y Intercept): -610.0100202697431 Second Gradient: -198590.92732912124\n",
      "First Gradient(Y Intercept): 907.024880402817 Second Gradient: 191710.31117290308\n",
      "First Gradient(Y Intercept): -557.4591518559733 Second Gradient: -185070.51929701332\n",
      "First Gradient(Y Intercept): 856.2930826506355 Second Gradient: 178658.26300574566\n",
      "First Gradient(Y Intercept): -508.4860937335571 Second Gradient: -172470.60655090745\n",
      "First Gradient(Y Intercept): 809.0151564266014 Second Gradient: 166494.8232878923\n",
      "First Gradient(Y Intercept): -462.84726172198225 Second Gradient: -160728.52000790977\n",
      "First Gradient(Y Intercept): 764.9559555390532 Second Gradient: 155159.4938533857\n",
      "First Gradient(Y Intercept): -420.31565531846485 Second Gradient: -149785.8572163678\n",
      "First Gradient(Y Intercept): 723.8963429996737 Second Gradient: 144595.89536734117\n",
      "First Gradient(Y Intercept): -380.67972864948325 Second Gradient: -139588.1918754613\n",
      "First Gradient(Y Intercept): 685.6321010861903 Second Gradient: 134751.48690802016\n",
      "First Gradient(Y Intercept): -343.7423382898776 Second Gradient: -130084.80313120331\n",
      "First Gradient(Y Intercept): 649.9729156101841 Second Gradient: 125577.3046403098\n",
      "First Gradient(Y Intercept): -309.31976271666827 Second Gradient: -121228.42330254611\n",
      "First Gradient(Y Intercept): 616.7414293378837 Second Gradient: 117027.71828082713\n",
      "First Gradient(Y Intercept): -277.24078852021063 Second Gradient: -112975.0027827415\n",
      "First Gradient(Y Intercept): 585.772359855819 Second Gradient: 109060.20414331008\n",
      "First Gradient(Y Intercept): -247.34585882784552 Second Gradient: -105283.49094667181\n",
      "First Gradient(Y Intercept): 556.9116774939325 Second Gradient: 101635.13363553776\n",
      "First Gradient(Y Intercept): -219.48627970454757 Second Gradient: -98115.63197443855\n",
      "First Gradient(Y Intercept): 530.0158392172688 Second Gradient: 94715.57615578732\n",
      "First Gradient(Y Intercept): -193.52348058330284 Second Gradient: -91435.77457566306\n",
      "First Gradient(Y Intercept): 504.95107467570875 Second Gradient: 88267.11540845764\n",
      "First Gradient(Y Intercept): -169.32832504683125 Second Gradient: -85210.69466813424\n",
      "First Gradient(Y Intercept): 481.5927208609581 Second Gradient: 82257.67822531589\n",
      "First Gradient(Y Intercept): -146.78046853260219 Second Gradient: -79409.43012882228\n",
      "First Gradient(Y Intercept): 459.82460206114587 Second Gradient: 76657.37504086386\n",
      "First Gradient(Y Intercept): -125.76775976644605 Second Gradient: -74003.12679534727\n",
      "First Gradient(Y Intercept): 439.53845202947406 Second Gradient: 71438.35122849866\n",
      "First Gradient(Y Intercept): -106.1856829479258 Second Gradient: -68964.89495201716\n",
      "First Gradient(Y Intercept): 420.6333754927567 Second Gradient: 66574.64855798481\n",
      "First Gradient(Y Intercept): -87.93683791249452 Second Gradient: -64269.67558648838\n",
      "First Gradient(Y Intercept): 403.0153463212241 Second Gradient: 62042.076085116285\n",
      "First Gradient(Y Intercept): -70.930455685478 Second Gradient: -59894.115752006655\n",
      "First Gradient(Y Intercept): 386.59673986432443 Second Gradient: 57818.08983155264\n",
      "First Gradient(Y Intercept): -55.08194701793181 Second Gradient: -55816.45241518058\n",
      "First Gradient(Y Intercept): 371.2958971255023 Second Gradient: 53881.68065617189\n",
      "First Gradient(Y Intercept): -40.31248165902595 Second Gradient: -52016.40421162375\n",
      "First Gradient(Y Intercept): 357.03671860920696 Second Gradient: 50213.26976044431\n",
      "First Gradient(Y Intercept): -26.548596272487956 Second Gradient: -48475.070571106575\n",
      "First Gradient(Y Intercept): 343.74828581934304 Second Gradient: 46794.611307959116\n",
      "First Gradient(Y Intercept): -13.721829046739996 Second Gradient: -45174.83771043656\n",
      "First Gradient(Y Intercept): 331.36450852697817 Second Gradient: 43608.70167381941\n",
      "First Gradient(Y Intercept): -1.7683791815526329 Second Gradient: -42099.29102653945\n",
      "First Gradient(Y Intercept): 319.8237960525659 Second Gradient: 40639.694872489876\n",
      "First Gradient(Y Intercept): 9.371210442594833 Second Gradient: -39233.13345396456\n",
      "First Gradient(Y Intercept): 309.0687509280367 Second Gradient: 37872.82374348689\n",
      "First Gradient(Y Intercept): 19.75234899063193 Second Gradient: -36562.109380782276\n",
      "First Gradient(Y Intercept): 299.04588341492473 Second Gradient: 35294.32650290979\n",
      "First Gradient(Y Intercept): 29.426673265323927 Second Gradient: -34072.9337444466\n",
      "First Gradient(Y Intercept): 289.70534545869657 Second Gradient: 32891.37829548614\n",
      "First Gradient(Y Intercept): 38.44230453694753 Second Gradient: -31753.22595493112\n",
      "First Gradient(Y Intercept): 281.00068275582606 Second Gradient: 30652.02740665109\n",
      "First Gradient(Y Intercept): 46.844087887548035 Second Gradient: -29591.448316488153\n",
      "First Gradient(Y Intercept): 272.8886037008364 Second Gradient: 28565.135817478847\n",
      "First Gradient(Y Intercept): 54.67381525999011 Second Gradient: -27576.848641818357\n",
      "First Gradient(Y Intercept): 265.3287640636689 Second Gradient: 26620.32380670591\n",
      "First Gradient(Y Intercept): 61.97043332165374 Second Gradient: -25699.406773121536\n",
      "First Gradient(Y Intercept): 258.2835663267771 Second Gradient: 24807.918324389768\n",
      "First Gradient(Y Intercept): 68.77023717610585 Second Gradient: -23949.784744158515\n",
      "First Gradient(Y Intercept): 251.7179726836467 Second Gradient: 23118.904880359285\n",
      "First Gradient(Y Intercept): 75.10705088677223 Second Gradient: -22319.28033531047\n",
      "First Gradient(Y Intercept): 245.5993307687776 Second Gradient: 21544.882708209872\n",
      "First Gradient(Y Intercept): 81.01239570999594 Second Gradient: -20799.783790752037\n",
      "First Gradient(Y Intercept): 239.89721125225654 Second Gradient: 20078.02298180679\n",
      "First Gradient(Y Intercept): 86.51564687457564 Second Gradient: -19383.737482377757\n",
      "First Gradient(Y Intercept): 234.5832564913048 Second Gradient: 18711.02987650931\n",
      "First Gradient(Y Intercept): 91.64417968747728 Second Gradient: -18064.09831987843\n",
      "First Gradient(Y Intercept): 229.63103948575747 Second Gradient: 17437.104281389427\n",
      "First Gradient(Y Intercept): 96.42350569229369 Second Gradient: -16834.30272003282\n",
      "First Gradient(Y Intercept): 225.01593243627718 Second Gradient: 16249.90998202121\n",
      "First Gradient(Y Intercept): 100.87739955786388 Second Gradient: -15688.23396093754\n",
      "First Gradient(Y Intercept): 220.71498425127794 Second Gradient: 15143.542145594394\n",
      "First Gradient(Y Intercept): 105.0280173280192 Second Gradient: -14620.191758835153\n",
      "First Gradient(Y Intercept): 216.7068063934779 Second Gradient: 14112.497951636171\n",
      "First Gradient(Y Intercept): 108.89600662062624 Second Gradient: -13624.863916223487\n",
      "First Gradient(Y Intercept): 212.9714664982324 Second Gradient: 13151.649222240823\n",
      "First Gradient(Y Intercept): 112.50060932421988 Second Gradient: -12697.299900168835\n",
      "First Gradient(Y Intercept): 209.49038923438943 Second Gradient: 12256.21691566206\n",
      "First Gradient(Y Intercept): 115.8597573026905 Second Gradient: -11832.88621950686\n",
      "First Gradient(Y Intercept): 206.24626391502662 Second Gradient: 11421.74735649413\n",
      "First Gradient(Y Intercept): 118.9901615842042 Second Gradient: -11027.323478410128\n",
      "First Gradient(Y Intercept): 203.22295839793566 Second Gradient: 10644.090084082594\n",
      "First Gradient(Y Intercept): 121.90739547815932 Second Gradient: -10276.604992143246\n",
      "First Gradient(Y Intercept): 200.40543884802108 Second Gradient: 9919.377209078288\n",
      "First Gradient(Y Intercept): 124.62597203325038 Second Gradient: -9576.996858737108\n",
      "First Gradient(Y Intercept): 197.77969496250432 Second Gradient: 9244.004175452099\n",
      "First Gradient(Y Intercept): 127.15941622193772 Second Gradient: -8925.01938743825\n",
      "First Gradient(Y Intercept): 195.33267028689778 Second Gradient: 8614.611832264913\n",
      "First Gradient(Y Intercept): 129.5203322106613 Second Gradient: -8317.429791504488\n",
      "First Gradient(Y Intercept): 193.05219727511005 Second Gradient: 8028.06972599997\n",
      "First Gradient(Y Intercept): 131.72046605007728 Second Gradient: -7751.206059321901\n",
      "First Gradient(Y Intercept): 190.9269367709445 Second Gradient: 7481.460530425189\n",
      "First Gradient(Y Intercept): 133.7707640971813 Second Gradient: -7223.531923625358\n",
      "First Gradient(Y Intercept): 188.94632160965307 Second Gradient: 6972.065536460361\n"
     ]
    },
    {
     "name": "stdout",
     "output_type": "stream",
     "text": [
      "First Gradient(Y Intercept): 135.68142746001618 Second Gradient: -6731.782854020474\n",
      "First Gradient(Y Intercept): 187.10050405933262 Second Gradient: 6497.351129951757\n",
      "First Gradient(Y Intercept): 137.46196273565712 Second Gradient: -6273.5130031649915\n",
      "First Gradient(Y Intercept): 185.38030684052399 Second Gradient: 6054.956190050746\n",
      "First Gradient(Y Intercept): 139.12122929382102 Second Gradient: -5846.443041697093\n",
      "First Gradient(Y Intercept): 183.77717748053615 Second Gradient: 5642.68034553831\n",
      "First Gradient(Y Intercept): 140.66748334137836 Second Gradient: -5448.448821357453\n",
      "First Gradient(Y Intercept): 182.28314577540914 Second Gradient: 5258.4730306878455\n",
      "First Gradient(Y Intercept): 142.10841898676657 Second Gradient: -5077.5508099845265\n",
      "First Gradient(Y Intercept): 180.8907841479686 Second Gradient: 4900.423286220982\n",
      "First Gradient(Y Intercept): 143.45120650881296 Second Gradient: -4731.904245749563\n",
      "First Gradient(Y Intercept): 179.5931707047135 Second Gradient: 4566.750254624287\n",
      "First Gradient(Y Intercept): 144.70252802001616 Second Gradient: -4409.789961745985\n",
      "First Gradient(Y Intercept): 178.38385480788713 Second Gradient: 4255.794322571173\n",
      "First Gradient(Y Intercept): 145.86861070189832 Second Gradient: -4109.605835233656\n",
      "First Gradient(Y Intercept): 177.25682499150653 Second Gradient: 3966.0088663901956\n",
      "First Gradient(Y Intercept): 146.95525777744825 Second Gradient: -3829.858819077775\n",
      "First Gradient(Y Intercept): 176.2064790617696 Second Gradient: 3695.952559523545\n",
      "First Gradient(Y Intercept): 147.9678773751774 Second Gradient: -3569.1575156384934\n",
      "First Gradient(Y Intercept): 175.22759623291657 Second Gradient: 3444.2822036809544\n",
      "First Gradient(Y Intercept): 148.91150942778367 Second Gradient: -3326.2052563091565\n",
      "First Gradient(Y Intercept): 174.3153111603269 Second Gradient: 3209.7460480903756\n",
      "First Gradient(Y Intercept): 149.79085073974844 Second Gradient: -3099.7936521500133\n",
      "First Gradient(Y Intercept): 173.4650897413263 Second Gradient: 2991.177563565394\n",
      "First Gradient(Y Intercept): 150.61027834805867 Second Gradient: -2888.796583669628\n",
      "First Gradient(Y Intercept): 172.672706563643 Second Gradient: 2787.4896404604133\n",
      "First Gradient(Y Intercept): 151.3738712926913 Second Gradient: -2692.164599732812\n",
      "First Gradient(Y Intercept): 171.9342238891793 Second Gradient: 2597.6691816422594\n",
      "First Gradient(Y Intercept): 152.08543090473006 Second Gradient: -2508.919697859624\n",
      "First Gradient(Y Intercept): 171.2459720685806 Second Gradient: 2420.772063566108\n",
      "First Gradient(Y Intercept): 152.74849971333998 Second Gradient: -2338.150459856311\n",
      "First Gradient(Y Intercept): 170.6045312892797 Second Gradient: 2255.918440436342\n",
      "First Gradient(Y Intercept): 153.36637906554085 Second Gradient: -2179.0075186183726\n",
      "First Gradient(Y Intercept): 170.00671456606958 Second Gradient: 2102.2883680368027\n",
      "First Gradient(Y Intercept): 153.9421455463181 Second Gradient: -2030.6993335824968\n",
      "First Gradient(Y Intercept): 169.44955188981248 Second Gradient: 1959.1177255256732\n",
      "First Gradient(Y Intercept): 154.47866628083804 Second Gradient: -1892.4882537877884\n",
      "First Gradient(Y Intercept): 168.9302754553017 Second Gradient: 1825.6944148784823\n",
      "First Gradient(Y Intercept): 154.97861319492293 Second Gradient: -1763.6868489566032\n",
      "First Gradient(Y Intercept): 168.4463058947733 Second Gradient: 1701.3548190567847\n",
      "First Gradient(Y Intercept): 155.44447630453234 Second Gradient: -1643.654490391027\n",
      "First Gradient(Y Intercept): 167.99523944880394 Second Gradient: 1585.4805013548153\n",
      "First Gradient(Y Intercept): 155.8785761005906 Second Gradient: -1531.794164615255\n",
      "First Gradient(Y Intercept): 167.5748360105042 Second Gradient: 1477.4951294160048\n",
      "First Gradient(Y Intercept): 156.28307509052672 Second Gradient: -1427.5495039830441\n",
      "First Gradient(Y Intercept): 167.183007983767 Second Gradient: 1376.8616087010091\n",
      "First Gradient(Y Intercept): 156.6599885541329 Second Gradient: -1330.4020194186214\n",
      "First Gradient(Y Intercept): 166.81780989999507 Second Gradient: 1283.079411086856\n",
      "First Gradient(Y Intercept): 157.01119456711882 Second Gradient: -1239.8685215710095\n",
      "First Gradient(Y Intercept): 166.47742874184976 Second Gradient: 1195.6820853698275\n",
      "First Gradient(Y Intercept): 157.33844334214672 Second Gradient: -1155.4987175595797\n",
      "First Gradient(Y Intercept): 166.16017492569924 Second Gradient: 1114.2349372423787\n",
      "First Gradient(Y Intercept): 157.64336593410263 Second Gradient: -1076.8729712892978\n",
      "First Gradient(Y Intercept): 165.8644738979183 Second Gradient: 1038.332867198842\n",
      "First Gradient(Y Intercept): 157.92748235252063 Second Gradient: -1003.6002163007429\n",
      "First Gradient(Y Intercept): 165.58885830360643 Second Gradient: 967.5983557040588\n",
      "First Gradient(Y Intercept): 158.19220912174663 Second Gradient: -935.3160106925623\n",
      "First Gradient(Y Intercept): 165.33196068816645 Second Gradient: 901.6795854737569\n",
      "First Gradient(Y Intercept): 158.43886632643185 Second Gradient: -871.6807244689955\n",
      "First Gradient(Y Intercept): 165.09250669592524 Second Gradient: 840.2486916123759\n",
      "First Gradient(Y Intercept): 158.66868417735608 Second Gradient: -812.3778502878479\n",
      "First Gradient(Y Intercept): 164.86930873178358 Second Gradient: 783.0001308984071\n",
      "First Gradient(Y Intercept): 158.88280913020068 Second Gradient: -757.1124292318237\n",
      "First Gradient(Y Intercept): 164.6612600543906 Second Gradient: 729.6491620741732\n",
      "First Gradient(Y Intercept): 159.08230958772205 Second Gradient: -705.6095837595843\n",
      "First Gradient(Y Intercept): 164.4673292714779 Second Gradient: 679.9304296184018\n",
      "First Gradient(Y Intercept): 159.26818121380072 Second Gradient: -657.6131505105723\n",
      "First Gradient(Y Intercept): 164.2865552099196 Second Gradient: 633.5966439149196\n",
      "First Gradient(Y Intercept): 159.4413518855577 Second Gradient: -612.8844062286165\n",
      "First Gradient(Y Intercept): 164.11804213513452 Second Gradient: 590.4173513100453\n",
      "First Gradient(Y Intercept): 159.60268630851292 Second Gradient: -571.2008803857236\n",
      "First Gradient(Y Intercept): 163.96095529583448 Second Gradient: 550.1777878642388\n",
      "First Gradient(Y Intercept): 159.75299031734775 Second Gradient: -532.3552486763313\n",
      "First Gradient(Y Intercept): 163.8145167722224 Second Gradient: 512.6778111876464\n",
      "First Gradient(Y Intercept): 159.8930148840138 Second Gradient: -496.1543018250869\n",
      "First Gradient(Y Intercept): 163.6780016067214 Second Gradient: 477.73090495522155\n",
      "First Gradient(Y Intercept): 160.02345985282167 Second Gradient: -462.4179846201437\n",
      "First Gradient(Y Intercept): 163.55073419831456 Second Gradient: 445.16325124350567\n",
      "First Gradient(Y Intercept): 160.14497742133463 Second Gradient: -430.9785003548397\n",
      "First Gradient(Y Intercept): 163.43208494216583 Second Gradient: 414.8128659793117\n",
      "First Gradient(Y Intercept): 160.25817538427503 Second Gradient: -401.6794762407719\n",
      "First Gradient(Y Intercept): 163.32146709817684 Second Gradient: 386.52879328582713\n",
      "First Gradient(Y Intercept): 160.3636201565234 Second Gradient: -374.3751856493829\n",
      "First Gradient(Y Intercept): 163.21833387258536 Second Gradient: 360.17035463545307\n",
      "First Gradient(Y Intercept): 160.4618395903414 Second Gradient: -348.9298233022747\n",
      "First Gradient(Y Intercept): 163.12217569844017 Second Gradient: 335.6064491762268\n",
      "First Gradient(Y Intercept): 160.55332560084406 Second Gradient: -325.2168297964845\n",
      "First Gradient(Y Intercept): 163.03251770106695 Second Gradient: 312.7149016502805\n",
      "First Gradient(Y Intercept): 160.63853661255501 Second Gradient: -303.11826214949775\n",
      "First Gradient(Y Intercept): 162.94891733617948 Second Gradient: 291.38185472700457\n",
      "First Gradient(Y Intercept): 160.71789983962572 Second Gradient: -282.5242071512914\n",
      "First Gradient(Y Intercept): 162.87096218872568 Second Gradient: 271.50120269326277\n",
      "First Gradient(Y Intercept): 160.7918134106349 Second Gradient: -263.3322346975385\n",
      "First Gradient(Y Intercept): 162.7982679216893 Second Gradient: 252.97406372376003\n",
      "First Gradient(Y Intercept): 160.86064834881972 Second Gradient: -245.44688832043943\n",
      "First Gradient(Y Intercept): 162.73047636444574 Second Gradient: 235.70828805549942\n",
      "First Gradient(Y Intercept): 160.92475041741233 Second Gradient: -228.7792104158723\n",
      "First Gradient(Y Intercept): 162.66725373133232 Second Gradient: 219.61799966284053\n",
      "First Gradient(Y Intercept): 160.98444183942667 Second Gradient: -213.24629978481127\n",
      "First Gradient(Y Intercept): 162.60828896143337 Second Gradient: 204.62316911878924\n",
      "First Gradient(Y Intercept): 161.0400229003554 Second Gradient: -198.77089928979237\n",
      "First Gradient(Y Intercept): 162.5532921714346 Second Gradient: 190.64921554852558\n",
      "First Gradient(Y Intercept): 161.09177344163533 Second Gradient: -185.28101161962792\n",
      "First Gradient(Y Intercept): 162.5019932138712 Second Gradient: 177.62663569481933\n",
      "First Gradient(Y Intercept): 161.13995425259094 Second Gradient: -172.70954116946737\n",
      "First Gradient(Y Intercept): 162.45414033344434 Second Gradient: 165.4906582169046\n",
      "First Gradient(Y Intercept): 161.18480836746673 Second Gradient: -160.99396034350644\n",
      "First Gradient(Y Intercept): 162.40949891478155 Second Gradient: 154.1809215185532\n",
      "First Gradient(Y Intercept): 161.22656227437164 Second Gradient: -150.07599851845478\n",
      "First Gradient(Y Intercept): 162.36785031560404 Second Gradient: 143.6411735436967\n",
      "First Gradient(Y Intercept): 161.26542704154127 Second Gradient: -139.90135227912756\n",
      "First Gradient(Y Intercept): 162.32899077923636 Second Gradient: 133.8189919871796\n",
      "First Gradient(Y Intercept): 161.3015993673774 Second Gradient: -130.41941526728044\n",
      "First Gradient(Y Intercept): 162.29273042112123 Second Gradient: 124.66552355065389\n",
      "First Gradient(Y Intercept): 161.33526255862273 Second Gradient: -121.58302651620079\n",
      "First Gradient(Y Intercept): 162.2588922844394 Second Gradient: 116.13524096602593\n",
      "First Gradient(Y Intercept): 161.36658744216712 Second Gradient: -113.34823586225144\n",
      "First Gradient(Y Intercept): 162.22731145990124 Second Gradient: 108.1857165463474\n",
      "First Gradient(Y Intercept): 161.3957332146611 Second Gradient: -105.6740853571092\n",
      "First Gradient(Y Intercept): 162.19783426557171 Second Gradient: 100.77741116322122\n",
      "First Gradient(Y Intercept): 161.42284823437768 Second Gradient: -98.52240554052992\n",
      "First Gradient(Y Intercept): 162.1703174824612 Second Gradient: 93.87347758548998\n",
      "First Gradient(Y Intercept): 161.44807075903947 Second Gradient: -91.85762561066727\n",
      "First Gradient(Y Intercept): 162.1446276422166 Second Gradient: 87.43957721573867\n",
      "First Gradient(Y Intercept): 161.47152963354029 Second Gradient: -85.6465964873722\n",
      "First Gradient(Y Intercept): 162.12064036326083 Second Gradient: 81.4437092898\n",
      "First Gradient(Y Intercept): 161.49334493075304 Second Gradient: -79.8584259487884\n",
      "First Gradient(Y Intercept): 162.0982397321819 Second Gradient: 75.85605172941402\n",
      "First Gradient(Y Intercept): 161.51362854873582 Second Gradient: -74.46432497830398\n",
      "First Gradient(Y Intercept): 162.0773177271373 Second Gradient: 70.64881278527737\n",
      "First Gradient(Y Intercept): 161.53248476737613 Second Gradient: -69.43746455570917\n",
      "First Gradient(Y Intercept): 162.0577736806055 Second Gradient: 65.79609282418167\n",
      "First Gradient(Y Intercept): 161.55001076695694 Second Gradient: -64.75284224160185\n",
      "First Gradient(Y Intercept): 162.03951377874293 Second Gradient: 61.27375551907287\n",
      "First Gradient(Y Intercept): 161.5662971115319 Second Gradient: -60.38715780869458\n",
      "First Gradient(Y Intercept): 162.0224505947009 Second Gradient: 57.059307780533615\n",
      "First Gradient(Y Intercept): 161.58142819938746 Second Gradient: -56.31869735490283\n",
      "First Gradient(Y Intercept): 162.0065026538351 Second Gradient: 53.131787899293826\n",
      "First Gradient(Y Intercept): 161.5954826827898 Second Gradient: -52.52722530763994\n",
      "First Gradient(Y Intercept): 161.9915940284638 Second Gradient: 49.471661278935656\n",
      "First Gradient(Y Intercept): 161.60853385924753 Second Gradient: -48.993883761479616\n",
      "First Gradient(Y Intercept): 161.97765396018477 Second Gradient: 46.060723273531316\n",
      "First Gradient(Y Intercept): 161.6206500360246 Second Gradient: -45.701098693918986\n",
      "First Gradient(Y Intercept): 161.96461650796016 Second Gradient: 42.8820086408006\n",
      "First Gradient(Y Intercept): 161.63189486986388 Second Gradient: -42.632492566018826\n",
      "First Gradient(Y Intercept): 161.9524202201839 Second Gradient: 39.91970717574151\n",
      "First Gradient(Y Intercept): 161.64232768366884 Second Gradient: -39.77280284218666\n",
      "First Gradient(Y Intercept): 161.9410078289386 Second Gradient: 37.159085049412795\n",
      "First Gradient(Y Intercept): 161.65200376151523 Second Gradient: -37.10780609290155\n",
      "First Gradient(Y Intercept): 161.93032596525185 Second Gradient: 34.586411547716835\n",
      "First Gradient(Y Intercept): 161.66097462363265 Second Gradient: -34.624247249381916\n",
      "First Gradient(Y Intercept): 161.9203248935998 Second Gradient: 32.188890768177615\n",
      "First Gradient(Y Intercept): 161.66928828265316 Second Gradient: -32.30977366962698\n",
      "First Gradient(Y Intercept): 161.91095826455944 Second Gradient: 29.95459797935417\n",
      "First Gradient(Y Intercept): 161.676989482414 Second Gradient: -30.15287370814525\n",
      "First Gradient(Y Intercept): 161.90218288427133 Second Gradient: 27.8724203094941\n",
      "First Gradient(Y Intercept): 161.6841199205112 Second Gradient: -28.14281944960512\n",
      "First Gradient(Y Intercept): 161.89395849953831 Second Gradient: 25.932001458536313\n",
      "First Gradient(Y Intercept): 161.690718455724 Second Gradient: -26.269613348488157\n",
      "First Gradient(Y Intercept): 161.88624759774285 Second Gradient: 24.123690220504557\n",
      "First Gradient(Y Intercept): 161.69682130118466 Second Gradient: -24.523938527933186\n",
      "First Gradient(Y Intercept): 161.8790152201863 Second Gradient: 22.438492456249165\n",
      "First Gradient(Y Intercept): 161.7024622045991 Second Gradient: -22.89711241371819\n",
      "First Gradient(Y Intercept): 161.87222878821805 Second Gradient: 20.868026366063322\n",
      "First Gradient(Y Intercept): 161.70767261605883 Second Gradient: -21.38104355897123\n",
      "First Gradient(Y Intercept): 161.86585794120893 Second Gradient: 19.404480799549045\n",
      "First Gradient(Y Intercept): 161.71248184447433 Second Gradient: -19.968191398597497\n",
      "First Gradient(Y Intercept): 161.85987438552974 Second Gradient: 18.0405764002125\n",
      "First Gradient(Y Intercept): 161.7169172033642 Second Gradient: -18.651528737810604\n",
      "First Gradient(Y Intercept): 161.85425175382582 Second Gradient: 16.769529402908915\n",
      "First Gradient(Y Intercept): 161.7210041466791 Second Gradient: -17.424506811302976\n",
      "First Gradient(Y Intercept): 161.84896547391227 Second Gradient: 15.585017901799688\n",
      "First Gradient(Y Intercept): 161.72476639539974 Second Gradient: -16.281022710714268\n",
      "First Gradient(Y Intercept): 161.84399264651566 Second Gradient: 14.481150395319947\n",
      "First Gradient(Y Intercept): 161.72822605555984 Second Gradient: -15.215389019155133\n",
      "First Gradient(Y Intercept): 161.83931193138974 Second Gradient: 13.452436488212927\n",
      "First Gradient(Y Intercept): 161.73140372815473 Second Gradient: -14.222305532430878\n",
      "First Gradient(Y Intercept): 161.83490344114313 Second Gradient: 12.493759572188454\n",
      "First Gradient(Y Intercept): 161.73431861165096 Second Gradient: -13.296832890173263\n",
      "First Gradient(Y Intercept): 161.83074864239526 Second Gradient: 11.60035139952389\n",
      "First Gradient(Y Intercept): 161.73698859742117 Second Gradient: -12.434368019399292\n",
      "First Gradient(Y Intercept): 161.82683026353777 Second Gradient: 10.767768348847236\n",
      "First Gradient(Y Intercept): 161.73943035876152 Second Gradient: -11.63062123052281\n",
      "First Gradient(Y Intercept): 161.82313220885337 Second Gradient: 9.9918693297598\n",
      "First Gradient(Y Intercept): 161.74165943382567 Second Gradient: -10.881594884057913\n",
      "First Gradient(Y Intercept): 161.81963947842974 Second Gradient: 9.268795181380037\n",
      "First Gradient(Y Intercept): 161.7436903029242 Second Gradient: -10.183563502036504\n",
      "First Gradient(Y Intercept): 161.81633809359263 Second Gradient: 8.594949485429634\n",
      "First Gradient(Y Intercept): 161.74553646047443 Second Gradient: -9.533055253282932\n",
      "First Gradient(Y Intercept): 161.81321502738498 Second Gradient: 7.966980678376162\n",
      "First Gradient(Y Intercept): 161.74721048218018 Second Gradient: -8.926834674571621\n",
      "First Gradient(Y Intercept): 161.8102581396975 Second Gradient: 7.381765367570692\n",
      "First Gradient(Y Intercept): 161.7487240876062 Second Gradient: -8.361886568321893\n",
      "First Gradient(Y Intercept): 161.8074561169929 Second Gradient: 6.836392816672284\n",
      "First Gradient(Y Intercept): 161.7500881983675 Second Gradient: -7.835401033954955\n",
      "First Gradient(Y Intercept): 161.80479841596562 Second Gradient: 6.3281504556347805\n",
      "First Gradient(Y Intercept): 161.7513129925509 Second Gradient: -7.344759462424065\n",
      "First Gradient(Y Intercept): 161.80227521111465 Second Gradient: 5.8545103909959035\n",
      "First Gradient(Y Intercept): 161.75240795528214 Second Gradient: -6.887521531258651\n",
      "First Gradient(Y Intercept): 161.79987734587968 Second Gradient: 5.413116830011986\n",
      "First Gradient(Y Intercept): 161.75338192594296 Second Gradient: -6.461413053220945\n",
      "First Gradient(Y Intercept): 161.79759628709118 Second Gradient: 5.001774369069811\n",
      "First Gradient(Y Intercept): 161.75424314209465 Second Gradient: -6.0643146781143376\n",
      "First Gradient(Y Intercept): 161.79542408254338 Second Gradient: 4.6184370731983755\n",
      "First Gradient(Y Intercept): 161.75499928048907 Second Gradient: -5.694251338379797\n",
      "First Gradient(Y Intercept): 161.79335332141721 Second Gradient: 4.261198295112634\n",
      "First Gradient(Y Intercept): 161.75565749518415 Second Gradient: -5.349382445118488\n",
      "First Gradient(Y Intercept): 161.7913770974525 Second Gradient: 3.9282811973602154\n",
      "First Gradient(Y Intercept): 161.75622445326556 Second Gradient: -5.0279926989012615\n",
      "First Gradient(Y Intercept): 161.78948897456272 Second Gradient: 3.618029912505494\n",
      "First Gradient(Y Intercept): 161.75670636780384 Second Gradient: -4.728483605397201\n",
      "First Gradient(Y Intercept): 161.7876829548542 Second Gradient: 3.328901308344456\n",
      "First Gradient(Y Intercept): 161.7571090289668 Second Gradient: -4.449365479329445\n",
      "First Gradient(Y Intercept): 161.78595344879056 Second Gradient: 3.059457314145341\n",
      "First Gradient(Y Intercept): 161.75743783263084 Second Gradient: -4.189250071944955\n",
      "First Gradient(Y Intercept): 161.7842952473891 Second Gradient: 2.8083577678405347\n",
      "First Gradient(Y Intercept): 161.75769780735243 Second Gradient: -3.9468436434562153\n",
      "First Gradient(Y Intercept): 161.78270349625646 Second Gradient: 2.5743537377631225\n",
      "First Gradient(Y Intercept): 161.75789363935607 Second Gradient: -3.720940526775117\n",
      "First Gradient(Y Intercept): 161.78117367154934 Second Gradient: 2.3562813326732703\n",
      "First Gradient(Y Intercept): 161.7580296957987 Second Gradient: -3.510417143475603\n",
      "First Gradient(Y Intercept): 161.77970155736392 Second Gradient: 2.15305589060006\n",
      "First Gradient(Y Intercept): 161.75811004650507 Second Gradient: -3.314226414155137\n",
      "First Gradient(Y Intercept): 161.77828322488094 Second Gradient: 1.9636666087443464\n",
      "First Gradient(Y Intercept): 161.75813848421296 Second Gradient: -3.131392547025482\n",
      "First Gradient(Y Intercept): 161.7769150127247 Second Gradient: 1.7871714908844576\n",
      "First Gradient(Y Intercept): 161.75811854345466 Second Gradient: -2.961006181343895\n",
      "First Gradient(Y Intercept): 161.77559350882757 Second Gradient: 1.6226926857094326\n",
      "First Gradient(Y Intercept): 161.7580535181315 Second Gradient: -2.802219864894421\n",
      "First Gradient(Y Intercept): 161.77431553336265 Second Gradient: 1.4694120887556223\n",
      "First Gradient(Y Intercept): 161.7579464778888 Second Gradient: -2.6542438431187056\n",
      "First Gradient(Y Intercept): 161.77307812304335 Second Gradient: 1.3265673112225151\n",
      "First Gradient(Y Intercept): 161.75780028336922 Second Gradient: -2.5163421330524125\n",
      "First Gradient(Y Intercept): 161.7718785163123 Second Gradient: 1.1934478607181773\n",
      "First Gradient(Y Intercept): 161.75761760045052 Second Gradient: -2.3878288604302815\n",
      "First Gradient(Y Intercept): 161.77071413963827 Second Gradient: 1.0693916218482296\n",
      "First Gradient(Y Intercept): 161.75740091355172 Second Gradient: -2.268064836816784\n",
      "First Gradient(Y Intercept): 161.76958259465744 Second Gradient: 0.953781546202612\n",
      "First Gradient(Y Intercept): 161.75715253794553 Second Gradient: -2.156454389649476\n",
      "First Gradient(Y Intercept): 161.76848164632304 Second Gradient: 0.8460426042116918\n",
      "First Gradient(Y Intercept): 161.75687463121682 Second Gradient: -2.0524424200998035\n",
      "First Gradient(Y Intercept): 161.7674092117903 Second Gradient: 0.7456389223844125\n",
      "First Gradient(Y Intercept): 161.75656920410475 Second Gradient: -1.9555116048541858\n",
      "First Gradient(Y Intercept): 161.76636334993765 Second Gradient: 0.6520710925513006\n",
      "First Gradient(Y Intercept): 161.756238130461 Second Gradient: -1.8651798433181341\n",
      "First Gradient(Y Intercept): 161.76534225186455 Second Gradient: 0.5648737213952089\n",
      "First Gradient(Y Intercept): 161.75588315654247 Second Gradient: -1.7809978592049955\n",
      "First Gradient(Y Intercept): 161.76434423177648 Second Gradient: 0.4836130893245418\n",
      "First Gradient(Y Intercept): 161.75550590973418 Second Gradient: -1.7025469613906283\n",
      "First Gradient(Y Intercept): 161.76336771869876 Second Gradient: 0.40788501910409414\n",
      "First Gradient(Y Intercept): 161.7551079065767 Second Gradient: -1.6294369756332046\n",
      "First Gradient(Y Intercept): 161.76241124860113 Second Gradient: 0.33731284601959055\n",
      "First Gradient(Y Intercept): 161.75469056041507 Second Gradient: -1.5613042778657893\n",
      "First Gradient(Y Intercept): 161.76147345709094 Second Gradient: 0.27154553901742806\n",
      "First Gradient(Y Intercept): 161.75425518835306 Second Gradient: -1.4978100051240462\n",
      "First Gradient(Y Intercept): 161.76055307271375 Second Gradient: 0.21025598198468504\n",
      "First Gradient(Y Intercept): 161.7538030178302 Second Gradient: -1.438638362131518\n",
      "First Gradient(Y Intercept): 161.75964891052388 Second Gradient: 0.1531393111217767\n",
      "First Gradient(Y Intercept): 161.75333519271052 Second Gradient: -1.3834950581153893\n",
      "First Gradient(Y Intercept): 161.75875986629603 Second Gradient: 0.09991143431052096\n",
      "Values of Gradient 161.75875986629603 0.09991143431052096\n"
     ]
    }
   ],
   "source": [
    "T0,T1 = GD(Theta0,Theta1,Area,Price)"
   ]
  },
  {
   "cell_type": "markdown",
   "metadata": {},
   "source": [
    "## PLOTTING OF THETA VALUES."
   ]
  },
  {
   "cell_type": "code",
   "execution_count": 120,
   "metadata": {},
   "outputs": [
    {
     "data": {
      "text/plain": [
       "Text(0.5,1,'Value of Theta 0 Oscillating')"
      ]
     },
     "execution_count": 120,
     "metadata": {},
     "output_type": "execute_result"
    },
    {
     "data": {
      "image/png": "[encoded data removed]",
      "text/plain": [
       "<matplotlib.figure.Figure at 0x7fe1080b4898>"
      ]
     },
     "metadata": {},
     "output_type": "display_data"
    }
   ],
   "source": [
    "plt.plot(GradT0L)\n",
    "plt.xlabel('Iterations')\n",
    "plt.ylabel('Value of Theta 0')\n",
    "plt.title('Value of Theta 0 Oscillating')"
   ]
  },
  {
   "cell_type": "code",
   "execution_count": 122,
   "metadata": {},
   "outputs": [
    {
     "data": {
      "text/plain": [
       "Text(0.5,1,'Value of Theta 1 Oscillating')"
      ]
     },
     "execution_count": 122,
     "metadata": {},
     "output_type": "execute_result"
    },
    {
     "data": {
      "image/png": "[encoded data removed]",
      "text/plain": [
       "<matplotlib.figure.Figure at 0x7fe0fcd2d2e8>"
      ]
     },
     "metadata": {},
     "output_type": "display_data"
    }
   ],
   "source": [
    "plt.plot(GradT1L,'r')\n",
    "plt.xlabel('Iterations')\n",
    "plt.ylabel('Value of Theta 1')\n",
    "plt.title('Value of Theta 1 Oscillating')"
   ]
  },
  {
   "cell_type": "markdown",
   "metadata": {},
   "source": [
    "# Hypothesized Price Values based on Theta values of lowest gradient"
   ]
  },
  {
   "cell_type": "markdown",
   "metadata": {},
   "source": [
    "Construct a Predicted Price List"
   ]
  },
  {
   "cell_type": "code",
   "execution_count": 131,
   "metadata": {
    "collapsed": true
   },
   "outputs": [],
   "source": [
    "HPrice = []\n",
    "\n",
    "for i in range(len(Area)):\n",
    "    HPrice.append(Prediction(T0,T1,Area[i]))\n",
    "    \n",
    "HPriceNorm = Normalize(HPrice)"
   ]
  },
  {
   "cell_type": "markdown",
   "metadata": {},
   "source": [
    "Plotting of our Predicted Price"
   ]
  },
  {
   "cell_type": "code",
   "execution_count": 158,
   "metadata": {},
   "outputs": [
    {
     "data": {
      "text/plain": [
       "Text(0.5,1,'Price and Area Graph(Actual)')"
      ]
     },
     "execution_count": 158,
     "metadata": {},
     "output_type": "execute_result"
    },
    {
     "data": {
      "image/png": "[encoded data removed]",
      "text/plain": [
       "<matplotlib.figure.Figure at 0x7fe0fbefb470>"
      ]
     },
     "metadata": {},
     "output_type": "display_data"
    }
   ],
   "source": [
    "plt.plot(AreaNorm)\n",
    "plt.plot(PriceNorm)\n",
    "plt.legend(('Area','Price'))\n",
    "plt.xlabel('Data Items')\n",
    "plt.ylabel('Area and Price')\n",
    "plt.title('Price and Area Graph(Actual)')"
   ]
  },
  {
   "cell_type": "code",
   "execution_count": 159,
   "metadata": {},
   "outputs": [
    {
     "data": {
      "text/plain": [
       "Text(0.5,1,'Price and Area Graph(Hypothesized)')"
      ]
     },
     "execution_count": 159,
     "metadata": {},
     "output_type": "execute_result"
    },
    {
     "data": {
      "image/png": "[encoded data removed]",
      "text/plain": [
       "<matplotlib.figure.Figure at 0x7fe0fbab5d68>"
      ]
     },
     "metadata": {},
     "output_type": "display_data"
    }
   ],
   "source": [
    "plt.plot(AreaNorm)\n",
    "plt.plot(HPriceNorm,'r')\n",
    "plt.legend(('Area','Price'))\n",
    "plt.xlabel('Data Items')\n",
    "plt.ylabel('Area and Price')\n",
    "plt.title('Price and Area Graph(Hypothesized)')"
   ]
  },
  {
   "cell_type": "code",
   "execution_count": 165,
   "metadata": {},
   "outputs": [
    {
     "data": {
      "text/plain": [
       "Text(0.5,1,'Price and Area Graph(Actual)')"
      ]
     },
     "execution_count": 165,
     "metadata": {},
     "output_type": "execute_result"
    },
    {
     "data": {
      "image/png": "[encoded data removed]",
      "text/plain": [
       "<matplotlib.figure.Figure at 0x7fe0fb86d6a0>"
      ]
     },
     "metadata": {},
     "output_type": "display_data"
    }
   ],
   "source": [
    "plt.plot(AreaNorm,PriceNorm)\n",
    "plt.plot(AreaNorm,HPriceNorm)\n",
    "plt.legend(('Actual','Hypothesis'))\n",
    "plt.xlabel('Area')\n",
    "plt.ylabel('Price')\n",
    "plt.title('Price and Area Graph(Actual)')"
   ]
  },
  {
   "cell_type": "markdown",
   "metadata": {},
   "source": [
    "# And its done"
   ]
  },
  {
   "cell_type": "markdown",
   "metadata": {},
   "source": [
    "<img src=\"https://userscontent2.emaze.com/images/5469dec9-ed0b-42d8-a1ac-ed74ec457f2e/193a7518-2459-42fc-ab93-138f283ae7c8.gif\">"
   ]
  }
 ],
 "metadata": {
  "kernelspec": {
   "display_name": "Python 3",
   "language": "python",
   "name": "python3"
  },
  "language_info": {
   "codemirror_mode": {
    "name": "ipython",
    "version": 3
   },
   "file_extension": ".py",
   "mimetype": "text/x-python",
   "name": "python",
   "nbconvert_exporter": "python",
   "pygments_lexer": "ipython3",
   "version": "3.6.3"
  }
 },
 "nbformat": 4,
 "nbformat_minor": 2
}
